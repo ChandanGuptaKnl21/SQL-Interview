{
 "cells": [
  {
   "cell_type": "code",
   "execution_count": null,
   "id": "4df9bba8",
   "metadata": {},
   "outputs": [],
   "source": [
    "Questions 1: Assume we have Last three years data of a restaurant as mentioned below\n",
    "\n",
    "Invoice id\t| invoice date \t| user id \t| final price\n",
    "1\t\t    | 22-05-2022 \t| 36\t\t| 356.98\n",
    "2          \t| 22-05-2222 \t| 630    \t| 530.00\n",
    "3\t    \t| 3-04-2022\t    | 45 \t\t| 78.00\n",
    "can you write a sql query which will find “In the year 2021, which month has the maximum total sales”?\n",
    "\n",
    "//====================List of Assumptions=========================\n",
    "1. Table name is restaurant_data\n",
    "2. Last three years are 2021,2022 and 2023\n",
    "3. Column names are invoice_id, invoice_date, user_id, final_price\n",
    "4. Replace user_id with quanity\n",
    "5. invoice_date in string data type\n",
    "\n",
    "//================== Logic or Apporach============================\n",
    "Step1 - Extract the month and year from given date column\n",
    "Step2 - Compute the total sales using qty and final price columns\n",
    "Step3 - Define condition for year 2021 data\n",
    "Step4 - Gropu by the month and year\n",
    "Step5 - Sort by the total sales in decs\n",
    "Step6 - Limit by 1 to get top row\n",
    "\n",
    "//========================write your code here=====================\n",
    "SELECT \n",
    "\tDATE_FORMAT(invoice_date, '%Y-%m') AS month_year, \n",
    "\tSUM(quanity * final_price) AS total_sales \n",
    "FROM \n",
    "\trestaurant_data \n",
    "WHERE \n",
    "\tinvoice_date BETWEEN '2021-01-01' AND '2021-12-31' \n",
    "GROUP BY \n",
    "\tmonth_year \n",
    "ORDER BY \n",
    "\ttotal_sales DESC \n",
    "LIMIT 1;\n"
   ]
  }
 ],
 "metadata": {
  "kernelspec": {
   "display_name": "Python 3 (ipykernel)",
   "language": "python",
   "name": "python3"
  },
  "language_info": {
   "codemirror_mode": {
    "name": "ipython",
    "version": 3
   },
   "file_extension": ".py",
   "mimetype": "text/x-python",
   "name": "python",
   "nbconvert_exporter": "python",
   "pygments_lexer": "ipython3",
   "version": "3.10.0"
  }
 },
 "nbformat": 4,
 "nbformat_minor": 5
}
